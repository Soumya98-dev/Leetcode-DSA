{
 "cells": [
  {
   "cell_type": "markdown",
   "metadata": {},
   "source": [
    "## Longest Substring without Repeating Characters"
   ]
  },
  {
   "cell_type": "code",
   "execution_count": 1,
   "metadata": {},
   "outputs": [
    {
     "name": "stdout",
     "output_type": "stream",
     "text": [
      "3\n"
     ]
    }
   ],
   "source": [
    "#BruteForce\n",
    "def lengthOfLongestSubstring(s: str) -> int:\n",
    "    max_len = 0\n",
    "    n = len(s)\n",
    "\n",
    "    for i in range(n):\n",
    "        seen = set()\n",
    "        for j in range(i, n):\n",
    "            if s[j] in seen:\n",
    "                break\n",
    "            seen.add(s[j])\n",
    "            max_len = max(max_len, j - i + 1)\n",
    "    return max_len\n",
    "\n",
    "\n",
    "print(lengthOfLongestSubstring(\"abcabcbb\"))\n"
   ]
  },
  {
   "cell_type": "code",
   "execution_count": null,
   "metadata": {},
   "outputs": [
    {
     "name": "stdout",
     "output_type": "stream",
     "text": [
      "8\n"
     ]
    }
   ],
   "source": [
    "#Optimal App\n",
    "def lengthOfLongestSubstring(s:str) -> int:\n",
    "  max_len = 0\n",
    "  n = len(s)\n",
    "  #Two pointers\n",
    "  left = 0\n",
    "  right = 0\n",
    "  #tracking char and index\n",
    "  hs = {}\n",
    "  #Sliding Window App\n",
    "  for right in range(n):\n",
    "    if s[right] not in hs:\n",
    "      hs[s[right]] = right\n",
    "    #if ele is present in hs also should be more than left; then action\n",
    "    else:\n",
    "      if hs[s[right]] >= left:\n",
    "        left = hs[s[right]] + 1\n",
    "      hs[s[right]] = right\n",
    "\n",
    "    max_len = max(max_len, right - left + 1)\n",
    "\n",
    "  return max_len\n",
    "\n",
    "print(lengthOfLongestSubstring(\"abcabcbb\"))\n",
    "# print()"
   ]
  }
 ],
 "metadata": {
  "kernelspec": {
   "display_name": "Python 3",
   "language": "python",
   "name": "python3"
  },
  "language_info": {
   "codemirror_mode": {
    "name": "ipython",
    "version": 3
   },
   "file_extension": ".py",
   "mimetype": "text/x-python",
   "name": "python",
   "nbconvert_exporter": "python",
   "pygments_lexer": "ipython3",
   "version": "3.13.0"
  }
 },
 "nbformat": 4,
 "nbformat_minor": 2
}
