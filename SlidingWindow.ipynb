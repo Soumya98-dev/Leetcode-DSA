{
 "cells": [
  {
   "cell_type": "markdown",
   "metadata": {},
   "source": [
    "## Longest Substring without Repeating Characters"
   ]
  },
  {
   "cell_type": "code",
   "execution_count": null,
   "metadata": {},
   "outputs": [],
   "source": [
    "#BruteForce\n",
    "def lengthOfLongestSubstring(s: str) -> int:\n",
    "    max_len = 0\n",
    "    n = len(s)\n",
    "\n",
    "    for i in range(n):\n",
    "        seen = set()\n",
    "        for j in range(i, n):\n",
    "            if s[j] in seen:\n",
    "                break\n",
    "            seen.add(s[j])\n",
    "            max_len = max(max_len, j - i + 1)\n",
    "    return max_len\n",
    "\n",
    "\n",
    "print(lengthOfLongestSubstring(\"abcabcbb\"))\n"
   ]
  },
  {
   "cell_type": "code",
   "execution_count": null,
   "metadata": {},
   "outputs": [],
   "source": [
    "#Optimal App\n",
    "def lengthOfLongestSubstring(s:str) -> int:\n",
    "  max_len = 0\n",
    "  n = len(s)\n",
    "  #Two pointers\n",
    "  left = 0\n",
    "  right = 0\n",
    "  #tracking char and index\n",
    "  hs = {}\n",
    "  #Sliding Window App\n",
    "  for right in range(n):\n",
    "    if s[right] not in hs:\n",
    "      hs[s[right]] = right\n",
    "    #if ele is present in hs also should be more than left; then action\n",
    "    else:\n",
    "      if hs[s[right]] >= left:\n",
    "        left = hs[s[right]] + 1\n",
    "      hs[s[right]] = right\n",
    "\n",
    "    max_len = max(max_len, right - left + 1)\n",
    "\n",
    "  return max_len\n",
    "\n",
    "print(lengthOfLongestSubstring(\"abcabcbb\"))\n",
    "# print()"
   ]
  },
  {
   "cell_type": "markdown",
   "metadata": {},
   "source": [
    "# Minimum Size Subarray Sum"
   ]
  },
  {
   "cell_type": "code",
   "execution_count": null,
   "metadata": {},
   "outputs": [
    {
     "name": "stdout",
     "output_type": "stream",
     "text": [
      "2\n"
     ]
    }
   ],
   "source": [
    "#Brute Force\n",
    "from typing import List\n",
    "\n",
    "\n",
    "def minSubArrayLen(target: int, nums: List[int]) -> int:\n",
    "  n = len(nums)\n",
    "  min_len = n + 1\n",
    "\n",
    "  for i in range(n):\n",
    "    sum = 0\n",
    "    for j in range(i, n):\n",
    "      sum = sum + nums[j]\n",
    "      if sum >= target:\n",
    "        min_len = min(min_len, ((j - i)+1))\n",
    "        break\n",
    "\n",
    "  return min_len if min_len <= n else 0\n",
    "\n",
    "\n",
    "\n",
    "target = 7\n",
    "nums = [2,3,1,2,4,3]\n",
    "print(minSubArrayLen(target,nums))"
   ]
  },
  {
   "cell_type": "code",
   "execution_count": 4,
   "metadata": {},
   "outputs": [
    {
     "name": "stdout",
     "output_type": "stream",
     "text": [
      "2\n"
     ]
    }
   ],
   "source": [
    "#Optimal\n",
    "from typing import List\n",
    "def minSubArrayLen(target: int, nums: List[int]) -> int:\n",
    "  left = 0\n",
    "  right = 0\n",
    "  sum = 0\n",
    "  min_len = float('inf')\n",
    "  n = len(nums)\n",
    "\n",
    "  for right in range(n):\n",
    "    sum = sum + nums[right]\n",
    "    while sum >= target:\n",
    "      min_len = min(min_len, ((right - left) + 1))\n",
    "      sum = sum - nums[left]\n",
    "      left = left + 1\n",
    "\n",
    "  return min_len if min_len <= n else 0\n",
    "\n",
    "target = 7\n",
    "nums = [2,3,1,2,4,3]\n",
    "print(minSubArrayLen(target,nums))"
   ]
  }
 ],
 "metadata": {
  "kernelspec": {
   "display_name": "Python 3",
   "language": "python",
   "name": "python3"
  },
  "language_info": {
   "codemirror_mode": {
    "name": "ipython",
    "version": 3
   },
   "file_extension": ".py",
   "mimetype": "text/x-python",
   "name": "python",
   "nbconvert_exporter": "python",
   "pygments_lexer": "ipython3",
   "version": "3.12.6"
  }
 },
 "nbformat": 4,
 "nbformat_minor": 2
}
