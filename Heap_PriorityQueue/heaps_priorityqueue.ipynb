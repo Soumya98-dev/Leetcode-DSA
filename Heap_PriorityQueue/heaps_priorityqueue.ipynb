{
 "cells": [
  {
   "cell_type": "markdown",
   "id": "b31641f4",
   "metadata": {},
   "source": [
    "# Heap/Priority Queue"
   ]
  },
  {
   "cell_type": "markdown",
   "id": "c04ff2b8",
   "metadata": {},
   "source": [
    "## Min-Heap(Heapify)"
   ]
  },
  {
   "cell_type": "code",
   "execution_count": 2,
   "id": "338e93c4",
   "metadata": {},
   "outputs": [
    {
     "data": {
      "text/plain": [
       "[-4, 0, 1, 3, 2, 5, 10, 8, 12, 9]"
      ]
     },
     "execution_count": 2,
     "metadata": {},
     "output_type": "execute_result"
    }
   ],
   "source": [
    "A = [-4, 3, 1, 0, 2, 5, 10, 8, 12, 9]\n",
    "\n",
    "import heapq\n",
    "\n",
    "heapq.heapify(A)\n",
    "\n",
    "A"
   ]
  },
  {
   "cell_type": "markdown",
   "id": "35925cfe",
   "metadata": {},
   "source": [
    "## Heap Push (O(lgn))"
   ]
  },
  {
   "cell_type": "code",
   "execution_count": 20,
   "id": "a5487fad",
   "metadata": {},
   "outputs": [
    {
     "data": {
      "text/plain": [
       "[-4, 0, 1, 3, 2, 5, 10, 8, 12, 9, 4]"
      ]
     },
     "execution_count": 20,
     "metadata": {},
     "output_type": "execute_result"
    }
   ],
   "source": [
    "heapq.heappush(A, 4)\n",
    "\n",
    "A"
   ]
  },
  {
   "cell_type": "markdown",
   "id": "2506c90f",
   "metadata": {},
   "source": [
    "## Heap Pop (O(lgn))"
   ]
  },
  {
   "cell_type": "code",
   "execution_count": 21,
   "id": "abbc0c6a",
   "metadata": {},
   "outputs": [
    {
     "data": {
      "text/plain": [
       "([0, 2, 1, 3, 4, 5, 10, 8, 12, 9], -4)"
      ]
     },
     "execution_count": 21,
     "metadata": {},
     "output_type": "execute_result"
    }
   ],
   "source": [
    "minn = heapq.heappop(A)\n",
    "\n",
    "A, minn"
   ]
  },
  {
   "cell_type": "markdown",
   "id": "f5ab1b6b",
   "metadata": {},
   "source": [
    "## Heap-Sort (O(nlgn), O(n)/O(1))"
   ]
  },
  {
   "cell_type": "code",
   "execution_count": 23,
   "id": "40beb65c",
   "metadata": {},
   "outputs": [
    {
     "data": {
      "text/plain": [
       "[-4, 0, 1, 2, 3, 5, 8, 9, 10, 12]"
      ]
     },
     "execution_count": 23,
     "metadata": {},
     "output_type": "execute_result"
    }
   ],
   "source": [
    "def heap_sort(arr):\n",
    "  #Step1: Heapify\n",
    "  heapq.heapify(arr)\n",
    "  #Step2: Sorting\n",
    "  n = len(arr)\n",
    "  new_list = [0] * n\n",
    "\n",
    "  for i in range(n):\n",
    "    minn = heapq.heappop(arr)\n",
    "    new_list[i] = minn\n",
    "\n",
    "  return new_list\n",
    "\n",
    "heap_sort([-4, 3, 1, 0, 2, 5, 10, 8, 12, 9])"
   ]
  },
  {
   "cell_type": "markdown",
   "id": "32e853c9",
   "metadata": {},
   "source": [
    "## Max-Heap"
   ]
  },
  {
   "cell_type": "code",
   "execution_count": null,
   "id": "05e5ddff",
   "metadata": {},
   "outputs": [
    {
     "data": {
      "text/plain": [
       "[-12, -9, -10, -8, -2, -5, -1, -3, 0, 4]"
      ]
     },
     "execution_count": 3,
     "metadata": {},
     "output_type": "execute_result"
    }
   ],
   "source": [
    "B = [-4, 3, 1, 0, 2, 5, 10, 8, 12, 9]\n",
    "\n",
    "n = len(B)\n",
    "\n",
    "for i in range(n):\n",
    "  B[i] = -B[i]\n",
    "\n",
    "heapq.heapify(B)\n"
   ]
  },
  {
   "cell_type": "code",
   "execution_count": 4,
   "id": "dd3d99d9",
   "metadata": {},
   "outputs": [
    {
     "data": {
      "text/plain": [
       "12"
      ]
     },
     "execution_count": 4,
     "metadata": {},
     "output_type": "execute_result"
    }
   ],
   "source": [
    "largest = -heapq.heappop(B)\n",
    "\n",
    "largest"
   ]
  },
  {
   "cell_type": "code",
   "execution_count": 6,
   "id": "5b5e794a",
   "metadata": {},
   "outputs": [
    {
     "data": {
      "text/plain": [
       "[-10, -9, -5, -8, -7, 4, -1, -3, 0, -2, -7]"
      ]
     },
     "execution_count": 6,
     "metadata": {},
     "output_type": "execute_result"
    }
   ],
   "source": [
    "heapq.heappush(B, -7)\n",
    "\n",
    "B"
   ]
  },
  {
   "cell_type": "markdown",
   "id": "f684fdb5",
   "metadata": {},
   "source": [
    "### For Leetcode style problems"
   ]
  },
  {
   "cell_type": "code",
   "execution_count": null,
   "id": "517e68e6",
   "metadata": {},
   "outputs": [
    {
     "name": "stdout",
     "output_type": "stream",
     "text": [
      "5 4\n",
      "4 3\n",
      "3 2\n"
     ]
    }
   ],
   "source": [
    "#Putting tuples of items on the heap\n",
    "\n",
    "D = [5,4,3,5,4,3,5,5,4]\n",
    "\n",
    "from collections import Counter\n",
    "\n",
    "counter = Counter(D)\n",
    "\n",
    "counter\n"
   ]
  },
  {
   "cell_type": "code",
   "execution_count": null,
   "id": "c8c557c6",
   "metadata": {},
   "outputs": [
    {
     "name": "stdout",
     "output_type": "stream",
     "text": [
      "5 4\n",
      "4 3\n",
      "3 2\n"
     ]
    },
    {
     "data": {
      "text/plain": [
       "[(2, 3), (4, 5), (3, 4)]"
      ]
     },
     "execution_count": 9,
     "metadata": {},
     "output_type": "execute_result"
    }
   ],
   "source": [
    "heap = []\n",
    "\n",
    "for k, v in counter.items():\n",
    "  print(k, v)\n",
    "  heapq.heappush(heap, (v,k))\n",
    "\n",
    "heap"
   ]
  }
 ],
 "metadata": {
  "kernelspec": {
   "display_name": "base",
   "language": "python",
   "name": "python3"
  },
  "language_info": {
   "codemirror_mode": {
    "name": "ipython",
    "version": 3
   },
   "file_extension": ".py",
   "mimetype": "text/x-python",
   "name": "python",
   "nbconvert_exporter": "python",
   "pygments_lexer": "ipython3",
   "version": "3.12.7"
  }
 },
 "nbformat": 4,
 "nbformat_minor": 5
}
