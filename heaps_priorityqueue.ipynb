{
 "cells": [
  {
   "cell_type": "markdown",
   "id": "b31641f4",
   "metadata": {},
   "source": [
    "# Heap/Priority Queue"
   ]
  },
  {
   "cell_type": "markdown",
   "id": "c04ff2b8",
   "metadata": {},
   "source": [
    "## Min-Heap(Heapify)"
   ]
  },
  {
   "cell_type": "code",
   "execution_count": 19,
   "id": "338e93c4",
   "metadata": {},
   "outputs": [
    {
     "data": {
      "text/plain": [
       "[-4, 0, 1, 3, 2, 5, 10, 8, 12, 9]"
      ]
     },
     "execution_count": 19,
     "metadata": {},
     "output_type": "execute_result"
    }
   ],
   "source": [
    "A = [-4, 3, 1, 0, 2, 5, 10, 8, 12, 9]\n",
    "\n",
    "import heapq\n",
    "\n",
    "heapq.heapify(A)\n",
    "\n",
    "A"
   ]
  },
  {
   "cell_type": "markdown",
   "id": "35925cfe",
   "metadata": {},
   "source": [
    "## Heap Push (O(lgn))"
   ]
  },
  {
   "cell_type": "code",
   "execution_count": 20,
   "id": "a5487fad",
   "metadata": {},
   "outputs": [
    {
     "data": {
      "text/plain": [
       "[-4, 0, 1, 3, 2, 5, 10, 8, 12, 9, 4]"
      ]
     },
     "execution_count": 20,
     "metadata": {},
     "output_type": "execute_result"
    }
   ],
   "source": [
    "heapq.heappush(A, 4)\n",
    "\n",
    "A"
   ]
  },
  {
   "cell_type": "markdown",
   "id": "2506c90f",
   "metadata": {},
   "source": [
    "## Heap Pop (O(lgn))"
   ]
  },
  {
   "cell_type": "code",
   "execution_count": 21,
   "id": "abbc0c6a",
   "metadata": {},
   "outputs": [
    {
     "data": {
      "text/plain": [
       "([0, 2, 1, 3, 4, 5, 10, 8, 12, 9], -4)"
      ]
     },
     "execution_count": 21,
     "metadata": {},
     "output_type": "execute_result"
    }
   ],
   "source": [
    "minn = heapq.heappop(A)\n",
    "\n",
    "A, minn"
   ]
  },
  {
   "cell_type": "markdown",
   "id": "f5ab1b6b",
   "metadata": {},
   "source": [
    "## Heap-Sort (O(nlgn), O(n)/O(1))"
   ]
  },
  {
   "cell_type": "code",
   "execution_count": 23,
   "id": "40beb65c",
   "metadata": {},
   "outputs": [
    {
     "data": {
      "text/plain": [
       "[-4, 0, 1, 2, 3, 5, 8, 9, 10, 12]"
      ]
     },
     "execution_count": 23,
     "metadata": {},
     "output_type": "execute_result"
    }
   ],
   "source": [
    "def heap_sort(arr):\n",
    "  #Step1: Heapify\n",
    "  heapq.heapify(arr)\n",
    "  #Step2: Sorting\n",
    "  n = len(arr)\n",
    "  new_list = [0] * n\n",
    "\n",
    "  for i in range(n):\n",
    "    minn = heapq.heappop(arr)\n",
    "    new_list[i] = minn\n",
    "\n",
    "  return new_list\n",
    "\n",
    "heap_sort([-4, 3, 1, 0, 2, 5, 10, 8, 12, 9])"
   ]
  }
 ],
 "metadata": {
  "kernelspec": {
   "display_name": "base",
   "language": "python",
   "name": "python3"
  },
  "language_info": {
   "codemirror_mode": {
    "name": "ipython",
    "version": 3
   },
   "file_extension": ".py",
   "mimetype": "text/x-python",
   "name": "python",
   "nbconvert_exporter": "python",
   "pygments_lexer": "ipython3",
   "version": "3.12.7"
  }
 },
 "nbformat": 4,
 "nbformat_minor": 5
}
